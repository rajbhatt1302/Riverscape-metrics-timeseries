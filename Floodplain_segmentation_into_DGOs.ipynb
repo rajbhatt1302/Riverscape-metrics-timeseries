{
  "nbformat": 4,
  "nbformat_minor": 0,
  "metadata": {
    "colab": {
      "provenance": []
    },
    "kernelspec": {
      "name": "python3",
      "display_name": "Python 3"
    },
    "language_info": {
      "name": "python"
    }
  },
  "cells": [
    {
      "cell_type": "code",
      "source": [
        "    !pip install geopandas\n",
        "    import geopandas as gpd\n",
        "    import matplotlib.pyplot\n",
        "    %matplotlib inline\n",
        "    import math\n",
        "    import warnings\n",
        "    from collections import OrderedDict\n",
        "\n",
        "    import numpy as np\n",
        "    import pandas as pd\n",
        "    from shapely.geometry import LineString\n",
        "    from shapely.geometry import MultiLineString\n",
        "    from shapely.geometry import MultiPoint\n",
        "    from shapely.geometry import MultiPolygon\n",
        "    from shapely.geometry import Point\n",
        "    from shapely.geometry import Polygon\n",
        "    from shapely.ops import split\n",
        ""
      ],
      "metadata": {
        "id": "wETTxecyO4Fn"
      },
      "execution_count": null,
      "outputs": []
    },
    {
      "cell_type": "code",
      "source": [
        "df = gpd.read_file(\"/content/Kanpur_patna.shp\")"
      ],
      "metadata": {
        "id": "bOcUdI-WO45p"
      },
      "execution_count": null,
      "outputs": []
    },
    {
      "cell_type": "code",
      "source": [
        "df.crs = {\"init\":\"epsg:4326\"}\n",
        "df = df.to_crs(epsg=3857)"
      ],
      "metadata": {
        "id": "3p4Xahu0O_s_"
      },
      "execution_count": null,
      "outputs": []
    },
    {
      "cell_type": "code",
      "source": [
        "df.length"
      ],
      "metadata": {
        "id": "sCIh2RTqPFvI"
      },
      "execution_count": null,
      "outputs": []
    },
    {
      "cell_type": "code",
      "source": [
        "cl = gpd.read_file(\"/content/centerline.shp\")"
      ],
      "metadata": {
        "id": "EwxyL-IH6Bov"
      },
      "execution_count": null,
      "outputs": []
    },
    {
      "cell_type": "code",
      "source": [
        "cl.crs = {\"init\":\"epsg:4326\"}\n",
        "cl = cl.to_crs(epsg=3857)"
      ],
      "metadata": {
        "id": "8qthrcg-FH6k"
      },
      "execution_count": null,
      "outputs": []
    },
    {
      "cell_type": "code",
      "source": [
        "ax = df.plot(color=\"yellow\",figsize=(100,40))\n",
        "\n",
        "cl.plot(ax=ax,color='black',figsize=(100,40))"
      ],
      "metadata": {
        "id": "Bk5kBClIFdek"
      },
      "execution_count": null,
      "outputs": []
    },
    {
      "cell_type": "code",
      "source": [
        "cl.to_file('fc.shp')"
      ],
      "metadata": {
        "id": "iVBNgc7Ye9MN"
      },
      "execution_count": null,
      "outputs": []
    },
    {
      "cell_type": "code",
      "source": [
        "bl = cl.boundary\n",
        "bound = gpd.GeoDataFrame(geometry=cl.boundary)"
      ],
      "metadata": {
        "id": "dwoqWBUxjKsA"
      },
      "execution_count": null,
      "outputs": []
    },
    {
      "cell_type": "code",
      "source": [
        "al = str(bound['geometry'].iloc[0])"
      ],
      "metadata": {
        "id": "FkWjKoMhlZ2S"
      },
      "execution_count": null,
      "outputs": []
    },
    {
      "cell_type": "code",
      "source": [
        "len(al)"
      ],
      "metadata": {
        "id": "IUmGGcLxoS1q",
        "colab": {
          "base_uri": "https://localhost:8080/"
        },
        "outputId": "e26bcea9-2dc0-4f18-b32a-47e0dae980ca"
      },
      "execution_count": null,
      "outputs": [
        {
          "output_type": "execute_result",
          "data": {
            "text/plain": [
              "746"
            ]
          },
          "metadata": {},
          "execution_count": 25
        }
      ]
    },
    {
      "cell_type": "code",
      "source": [
        "!pip install mplleaflet\n",
        "import fiona\n",
        "import numpy as np\n",
        "from shapely.geometry import LineString, MultiLineString\n",
        "from shapely import ops\n",
        "import mplleaflet as mpl\n",
        "import matplotlib.pyplot as plt"
      ],
      "metadata": {
        "id": "tIIhqq--f3J4"
      },
      "execution_count": null,
      "outputs": []
    },
    {
      "cell_type": "code",
      "source": [
        "mergedRoad = ops.linemerge(cl['geometry'].iloc[0])\n",
        "mergedRoad.length"
      ],
      "metadata": {
        "id": "h_--s7lGfdbq"
      },
      "execution_count": null,
      "outputs": []
    },
    {
      "cell_type": "code",
      "source": [
        "lenSpace = np.linspace(0,mergedRoad.length,num =int(8876620))\n",
        "lenSpace"
      ],
      "metadata": {
        "id": "ryGgJJ6tgPzJ"
      },
      "execution_count": null,
      "outputs": []
    },
    {
      "cell_type": "code",
      "source": [
        "tempList = []\n",
        "for space in lenSpace:\n",
        "    tempPoint =mergedRoad.interpolate(space)\n",
        "    tempList.append(tempPoint)\n",
        "\n",
        "denseRoad = LineString(tempList)\n",
        "display(denseRoad)"
      ],
      "metadata": {
        "id": "IcbWMwlHgyNG"
      },
      "execution_count": null,
      "outputs": []
    },
    {
      "cell_type": "code",
      "source": [
        "lines = []\n",
        "total = 0.0\n",
        "ftotal = 0\n",
        "x,y = denseRoad.coords.xy\n",
        "cd_length =3000\n",
        "start = 0\n",
        "for i in range(0,len(x)-1):\n",
        "  a =(x[i],y[i])\n",
        "  b =(x[i+1],y[i+1])\n",
        "  AB = LineString([a, b])\n",
        "  total = total+ AB.length\n",
        "  nt = total\n",
        "  if(total>5000):\n",
        "    print (total)\n",
        "    end=i+1\n",
        "    c=(x[start],y[start])\n",
        "    d=(x[end],y[end])\n",
        "    ab = LineString([c,d]);\n",
        "    left = ab.parallel_offset(cd_length / 2, 'left')\n",
        "    right = ab.parallel_offset(cd_length / 2, 'right')\n",
        "    c = left.boundary[1]\n",
        "    d = right.boundary[0]  # note the different orientation for right offset\n",
        "    cd = LineString([c, d])\n",
        "    lines.append(cd)\n",
        "    start = end\n",
        "    total = 0\n"
      ],
      "metadata": {
        "id": "S74watNVrT--"
      },
      "execution_count": null,
      "outputs": []
    },
    {
      "cell_type": "code",
      "source": [
        "    import math\n",
        "    import warnings\n",
        "    from collections import OrderedDict\n",
        "\n",
        "    import numpy as np\n",
        "    import pandas as pd\n",
        "    from shapely.geometry import LineString\n",
        "    from shapely.geometry import MultiLineString\n",
        "    from shapely.geometry import MultiPoint\n",
        "    from shapely.geometry import MultiPolygon\n",
        "    from shapely.geometry import Point\n",
        "    from shapely.geometry import Polygon\n",
        "    from shapely.ops import split\n",
        "\n",
        "    for line in lines:\n",
        "        df['geometry'].iloc[0] = MultiPolygon(split(df['geometry'].iloc[0], line))"
      ],
      "metadata": {
        "id": "EN216zOJhWca"
      },
      "execution_count": null,
      "outputs": []
    },
    {
      "cell_type": "code",
      "source": [
        "df.plot(figsize=(100,40),color=\"rgb\")"
      ],
      "metadata": {
        "id": "w_Z2r4OFhdQR"
      },
      "execution_count": null,
      "outputs": []
    },
    {
      "cell_type": "code",
      "source": [
        "df.head()"
      ],
      "metadata": {
        "id": "UD06AkyKY9KN"
      },
      "execution_count": null,
      "outputs": []
    },
    {
      "cell_type": "code",
      "source": [
        "df.to_file('segment.shp')"
      ],
      "metadata": {
        "id": "br7-ydvOY-q8"
      },
      "execution_count": null,
      "outputs": []
    },
    {
      "cell_type": "code",
      "source": [],
      "metadata": {
        "id": "_C_GyJCpZrWB"
      },
      "execution_count": null,
      "outputs": []
    }
  ]
}