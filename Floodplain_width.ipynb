{
  "cells": [
    {
      "cell_type": "code",
      "execution_count": null,
      "metadata": {
        "id": "YVRk_sho3zKy"
      },
      "outputs": [],
      "source": [
        "    !pip install geopandas\n",
        "    import geopandas as gpd\n",
        "    import matplotlib.pyplot\n",
        "    %matplotlib inline\n",
        "    import math\n",
        "    import warnings\n",
        "    from collections import OrderedDict\n",
        "\n",
        "    import numpy as np\n",
        "    import pandas as pd\n",
        "    from shapely.geometry import LineString\n",
        "    from shapely.geometry import MultiLineString\n",
        "    from shapely.geometry import MultiPoint\n",
        "    from shapely.geometry import MultiPolygon\n",
        "    from shapely.geometry import Point\n",
        "    from shapely.geometry import Polygon\n",
        "    from shapely.ops import split"
      ]
    },
    {
      "cell_type": "code",
      "execution_count": null,
      "metadata": {
        "id": "IQ2VBjFO4Fz3"
      },
      "outputs": [],
      "source": [
        "df = gpd.read_file(\"/content/floodplain.shp\")"
      ]
    },
    {
      "cell_type": "code",
      "execution_count": null,
      "metadata": {
        "id": "YveOb37J44t1"
      },
      "outputs": [],
      "source": [
        "df.crs = {\"init\":\"epsg:4326\"}\n",
        "df = df.to_crs(epsg=3857)"
      ]
    },
    {
      "cell_type": "code",
      "execution_count": null,
      "metadata": {
        "id": "H7RKb4-349JU"
      },
      "outputs": [],
      "source": [
        "df['Area']=df['geometry'].area"
      ]
    },
    {
      "cell_type": "code",
      "execution_count": null,
      "metadata": {
        "id": "ZkQJUblB8_8a"
      },
      "outputs": [],
      "source": [
        "cl = gpd.read_file(\"/content/centerline.shp\")"
      ]
    },
    {
      "cell_type": "code",
      "execution_count": null,
      "metadata": {
        "id": "6Onm0rig_A9X"
      },
      "outputs": [],
      "source": [
        "cl.crs = {\"init\":\"epsg:4326\"}\n",
        "cl = cl.to_crs(epsg=3857)"
      ]
    },
    {
      "cell_type": "code",
      "execution_count": null,
      "metadata": {
        "id": "8W4mfvpenyQH"
      },
      "outputs": [],
      "source": [
        "df['CenterLine'] = df.intersection(cl['geometry'].iloc[0])"
      ]
    },
    {
      "cell_type": "code",
      "execution_count": null,
      "metadata": {
        "id": "THIsKKPjrjbX"
      },
      "outputs": [],
      "source": [
        "df['Length'] = df['CenterLine'].length"
      ]
    },
    {
      "cell_type": "code",
      "execution_count": null,
      "metadata": {
        "id": "Ix3qMfVhySGo"
      },
      "outputs": [],
      "source": [
        "df['Width']=df['Area']/df['Length']"
      ]
    },
    {
      "cell_type": "code",
      "source": [
        "gdf = gpd.GeoDataFrame(geometry = df['CenterLine'])"
      ],
      "metadata": {
        "id": "WyOKwHRHdhw2"
      },
      "execution_count": null,
      "outputs": []
    },
    {
      "cell_type": "code",
      "source": [
        "gdf.to_file('Centerline_segment.shp')"
      ],
      "metadata": {
        "id": "WYqdwevVeGlR"
      },
      "execution_count": null,
      "outputs": []
    },
    {
      "cell_type": "code",
      "source": [
        "df = df.drop('CenterLine',1)"
      ],
      "metadata": {
        "colab": {
          "base_uri": "https://localhost:8080/"
        },
        "id": "9edNIeRS4dxk",
        "outputId": "348fb9db-5b98-46eb-f5e7-f52bd4e6f128"
      },
      "execution_count": null,
      "outputs": [
        {
          "output_type": "stream",
          "name": "stderr",
          "text": [
            "/usr/local/lib/python3.7/dist-packages/ipykernel_launcher.py:1: FutureWarning: In a future version of pandas all arguments of DataFrame.drop except for the argument 'labels' will be keyword-only\n",
            "  \"\"\"Entry point for launching an IPython kernel.\n"
          ]
        }
      ]
    },
    {
      "cell_type": "code",
      "source": [
        "df.to_file('Floodplain_width.shp')"
      ],
      "metadata": {
        "id": "ny1fCik_fJFa"
      },
      "execution_count": null,
      "outputs": []
    },
    {
      "cell_type": "code",
      "source": [
        "df.to_csv('Floodplain_width.csv', index=False)"
      ],
      "metadata": {
        "id": "09np79rT55Sa"
      },
      "execution_count": null,
      "outputs": []
    }
  ],
  "metadata": {
    "colab": {
      "provenance": []
    },
    "kernelspec": {
      "display_name": "Python 3",
      "name": "python3"
    },
    "language_info": {
      "name": "python"
    }
  },
  "nbformat": 4,
  "nbformat_minor": 0
}